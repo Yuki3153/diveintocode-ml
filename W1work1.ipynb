{
 "cells": [
  {
   "cell_type": "markdown",
   "metadata": {},
   "source": [
    "曽呂利新左衛門問題\n",
    "問題1】100日目の米粒の数\n",
    "100日目には合計で米粒をいくつもらっているのかを計算するコードを作成し、答えを出力してください。\n",
    "また、1日目から100日目までの「その日にもらう米の数」と「その日までに累計で貰う米の数」の推移を折れ線グラフで表現してください。"
   ]
  },
  {
   "cell_type": "code",
   "execution_count": 10,
   "metadata": {},
   "outputs": [
    {
     "name": "stdout",
     "output_type": "stream",
     "text": [
      "100日目までに貰った米粒： 1,267,650,600,228,229,401,496,703,205,375 個\n"
     ]
    },
    {
     "data": {
      "image/png": "[encoded data removed]",
      "text/plain": [
       "<Figure size 432x288 with 1 Axes>"
      ]
     },
     "metadata": {
      "needs_background": "light"
     },
     "output_type": "display_data"
    }
   ],
   "source": [
    "#sum_rice: 貰った米粒の合計, day_rice：1日に貰う米粒\n",
    "sum_rice = 0\n",
    "day_rice = 1\n",
    "num_day = 100\n",
    "list_day_rice = []\n",
    "list_sum_rice = []\n",
    "\n",
    "list_day_rice.append(day_rice)\n",
    "list_sum_rice.append(day_rice)\n",
    "\n",
    "for i in range(num_day -1):\n",
    "    day_rice *= 2\n",
    "    list_day_rice.append(day_rice)\n",
    "    list_sum_rice.append(sum(list_day_rice))\n",
    "\n",
    "rice = list_sum_rice[-1]\n",
    "print(\"100日目までに貰った米粒： {:,} 個\".format(rice))\n",
    "\n",
    "import matplotlib.pyplot as plt\n",
    "%matplotlib inline\n",
    "\n",
    "fig, ax = plt.subplots()\n",
    "ax.set_title(\"plot\")\n",
    "ax.set_xlabel(\"days\")\n",
    "ax.set_ylabel(\"grains\")\n",
    "ax.plot(list_sum_rice,label=\"sum\")\n",
    "ax.plot(list_day_rice,label=\"day\")\n",
    "ax.legend()\n",
    "plt.show()"
   ]
  },
  {
   "cell_type": "markdown",
   "metadata": {},
   "source": [
    "【問題2】100日目以外の米粒の数\n",
    "この逸話は30日だったり81日だったりと日数が曖昧です。どの話にも対応できるように日数を引数とした 関数を作成しましょう。\n",
    "関数を作成した上で、コースを受講する日数の間でいくつ米粒をもらえるかを答えてください。\n",
    "前の問題同様に折れ線グラフも出力してください。"
   ]
  },
  {
   "cell_type": "code",
   "execution_count": 11,
   "metadata": {},
   "outputs": [
    {
     "name": "stdout",
     "output_type": "stream",
     "text": [
      "貰える米粒数：1,329,227,995,784,915,872,903,807,060,280,344,575粒\n"
     ]
    },
    {
     "data": {
      "image/png": "[encoded data removed]",
      "text/plain": [
       "<Figure size 432x288 with 1 Axes>"
      ]
     },
     "metadata": {
      "needs_background": "light"
     },
     "output_type": "display_data"
    }
   ],
   "source": [
    "#コースを受講する日数は120日で算定\n",
    "\n",
    "def compute_sorori_shinzaemon(day):\n",
    "    \"\"\"\n",
    "    曽呂利新左衛門の米の逸話を検証する関数。日にちごとの米の粒の数を計算する。\n",
    "    Parameteres\n",
    "    --------------\n",
    "    day: int\n",
    "        米を貰う日数 (default : 100)\n",
    "    Returns\n",
    "    --------------\n",
    "    list_day_rice : list\n",
    "        ある日に貰う米の数のリスト（リストの長さはdayに等しくなる）\n",
    "    list_sum_rice : list\n",
    "        ある日までに累計で貰う米の数のリスト（リストの長さはdayに等しくなる）\n",
    "    \"\"\"\n",
    "    sum_rice = 0\n",
    "    day_rice = 1\n",
    "    list_day_rice = []\n",
    "    list_sum_rice = []\n",
    "\n",
    "    list_day_rice.append(day_rice)\n",
    "    list_sum_rice.append(day_rice)\n",
    "\n",
    "    for i in range(day - 1):\n",
    "        day_rice *= 2\n",
    "        list_day_rice.append(day_rice)\n",
    "        list_sum_rice.append(sum(list_day_rice))\n",
    "\n",
    "    return list_day_rice, list_sum_rice\n",
    "\n",
    "per_day, sum = compute_sorori_shinzaemon(120)\n",
    "print(\"貰える米粒数：{:,}粒\".format(sum[-1]))\n",
    "\n",
    "import matplotlib.pyplot as plt\n",
    "%matplotlib inline\n",
    "\n",
    "fig, ax = plt.subplots()\n",
    "ax.set_title(\"plot\")\n",
    "ax.set_xlabel(\"days\")\n",
    "ax.set_ylabel(\"grains\")\n",
    "ax.plot(sum,label=\"sum\")\n",
    "ax.plot(per_day,label=\"day\")\n",
    "ax.legend()\n",
    "plt.show()"
   ]
  },
  {
   "cell_type": "markdown",
   "metadata": {},
   "source": [
    "【問題3】何人が何日生活できる米か\n",
    "この米があれば何人が何日生活できるか計算する関数を作成してください。コースを受講する期間に貰える米粒で、このクラスにいる人数であれば、何日間生活できるかを出力してみましょう。\n",
    "関数の最低限の入力は 米粒の数(int) と 人数(int) 、出力は 生活できる日数(int) です。関数名やコメントなどは分かりやすく考えて作成してください。\n",
    "ここでは1日に必要な米粒の数は提示しません。自分なりに調べて、計算式に落とし込んでください。どう調べ、何を根拠にしたかもコメントを残しておいてください。"
   ]
  },
  {
   "cell_type": "code",
   "execution_count": 14,
   "metadata": {},
   "outputs": [
    {
     "name": "stdout",
     "output_type": "stream",
     "text": [
      "生活できる日数：14,606,901,052,581,492,645,803,614,797,824日\n"
     ]
    }
   ],
   "source": [
    "#炭水化物の最低必要量は100～150g/day。 ごはんに換算すると、ごはん茶碗約2杯分(およそ1合、6500粒)。\n",
    "#required:1日に必要な米粒数\n",
    "#クラス人数14名として計算\n",
    "\n",
    "required = 6500\n",
    "grains = sum[-1]\n",
    "\n",
    "def suvival_day(grains, people):\n",
    "    \"\"\"\n",
    "    この米があれば何人が何日生活できるか計算する関数\n",
    "    Parameteres\n",
    "    --------------\n",
    "     現在ある米粒の数 grains(int)\n",
    "     人数 people(int)\n",
    "    Returns\n",
    "    --------------\n",
    "    生活できる日数 days(int)\n",
    "    \"\"\"\n",
    "    total_required = required * people\n",
    "    days = grains / total_required\n",
    "\n",
    "    return int(days)\n",
    "\n",
    "print(\"生活できる日数：{:,}日\".format(suvival_day(grains,14)))"
   ]
  },
  {
   "cell_type": "code",
   "execution_count": null,
   "metadata": {},
   "outputs": [],
   "source": []
  }
 ],
 "metadata": {
  "kernelspec": {
   "display_name": "Python 3",
   "language": "python",
   "name": "python3"
  },
  "language_info": {
   "codemirror_mode": {
    "name": "ipython",
    "version": 3
   },
   "file_extension": ".py",
   "mimetype": "text/x-python",
   "name": "python",
   "nbconvert_exporter": "python",
   "pygments_lexer": "ipython3",
   "version": "3.7.4"
  }
 },
 "nbformat": 4,
 "nbformat_minor": 2
}

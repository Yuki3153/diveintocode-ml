{
 "cells": [
  {
   "cell_type": "markdown",
   "metadata": {},
   "source": [
    "何回折ったら富士山を超えるか問題\n",
    "【問題1】富士山を超える最小の折る回数\n",
    "厚さが「富士山(3776m)」を超えるのは何回紙を折った時か計算するプログラムを作成してください。"
   ]
  },
  {
   "cell_type": "code",
   "execution_count": 1,
   "metadata": {},
   "outputs": [
    {
     "name": "stdout",
     "output_type": "stream",
     "text": [
      "回数： 26回\n"
     ]
    }
   ],
   "source": [
    "#t:紙の厚さ\n",
    "t = 0.00008\n",
    "cnt = 0\n",
    "\n",
    "while t <= 3776:\n",
    "    t = t * 2\n",
    "    cnt += 1\n",
    "\n",
    "print(\"回数： {}回\".format(cnt))"
   ]
  },
  {
   "cell_type": "markdown",
   "metadata": {},
   "source": [
    "問題2】任意の厚さに対応した関数を作成\n",
    "距離を入力すると、何回折った時に超えるかを出力する関数を作成してください。引数として、折る前の厚さ t0も設定できるようにしましょう。\n",
    "この関数を利用して、「最も近い太陽以外の恒星」に到達するには紙を何回折る必要があるか計算してください。\n",
    "「最も近い太陽以外の恒星」の距離は調査してください。"
   ]
  },
  {
   "cell_type": "code",
   "execution_count": 3,
   "metadata": {},
   "outputs": [
    {
     "name": "stdout",
     "output_type": "stream",
     "text": [
      "必要な折数は69回です\n",
      "None\n"
     ]
    }
   ],
   "source": [
    "#最も近い恒星、プロキシマ・ケンタウリ：4.243光年\n",
    "#1光年は9.4605284 × 10**15　メートル\n",
    "# t0を0.00008メートル として計算\n",
    "\n",
    "def caluclate_distance(t0,distance):\n",
    "    \"\"\"\n",
    "        距離を入力すると、何回折った時に超えるかを出力する関数\n",
    "        Parameteres\n",
    "        --------------\n",
    "        distance: int\n",
    "            対象までの距離\n",
    "        t0: int\n",
    "            紙の厚さ\n",
    "        Returns\n",
    "        --------------\n",
    "        cnt :　int\n",
    "            距離を超えるために必要な折数\n",
    "        \"\"\"\n",
    "    cnt = 0\n",
    "    while t0 <= distance:\n",
    "        t0 = t0 * 2\n",
    "        cnt += 1\n",
    "    return print(\"必要な折数は{:,}回です\".format(cnt))\n",
    "\n",
    "kentauri = 4.243 * 9.4605284 * 10**15\n",
    "print(caluclate_distance(0.00008,kentauri))"
   ]
  },
  {
   "cell_type": "markdown",
   "metadata": {},
   "source": [
    "【問題3】必要な紙の長さ"
   ]
  },
  {
   "cell_type": "code",
   "execution_count": 4,
   "metadata": {},
   "outputs": [
    {
     "name": "stdout",
     "output_type": "stream",
     "text": [
      "必要な紙の長さは2.85e+34メートルです\n",
      "None\n",
      "必要な紙の長さは1.27e+19メートルです\n",
      "None\n",
      "必要な紙の長さは8.62e+57メートルです\n",
      "None\n"
     ]
    }
   ],
   "source": [
    "import math\n",
    "\n",
    "def caluclate_distance(t0,distance):\n",
    "    \"\"\"\n",
    "        実際に紙を折り任意の厚さに到達するために必要な紙の長さを求める関数\n",
    "        Parameteres\n",
    "        --------------\n",
    "        distance: int\n",
    "            対象までの距離\n",
    "        t0: int\n",
    "            紙の厚さ\n",
    "        Returns\n",
    "        --------------\n",
    "        cnt : int\n",
    "            距離を超えるために必要な折数\n",
    "        L : float\n",
    "            必要な紙の長さ\n",
    "        \"\"\"\n",
    "    cnt = 0\n",
    "    while t0 <= distance:\n",
    "        t0 = t0 * 2\n",
    "        cnt += 1\n",
    "    L = (math.pi * t0) / 6 * ((2 ** cnt) + 4) * ((2 ** cnt) - 1)\n",
    "    return print(\"必要な紙の長さは{:.2e}メートルです\".format(L))\n",
    "\n",
    "\n",
    "#「月」384,400,000 m\n",
    "print(caluclate_distance(0.00008,384400000))\n",
    "# 「富士山」 3776 m\n",
    "print(caluclate_distance(0.00008,3776))\n",
    "# 「最も近い太陽以外の恒星」 4.243 * 9.4605284 * 10**15 メートル\n",
    "kentauri = 4.243 * 9.4605284 * 10**15\n",
    "print(caluclate_distance(0.00008,kentauri))\n"
   ]
  },
  {
   "cell_type": "code",
   "execution_count": null,
   "metadata": {},
   "outputs": [],
   "source": []
  }
 ],
 "metadata": {
  "kernelspec": {
   "display_name": "Python 3",
   "language": "python",
   "name": "python3"
  },
  "language_info": {
   "codemirror_mode": {
    "name": "ipython",
    "version": 3
   },
   "file_extension": ".py",
   "mimetype": "text/x-python",
   "name": "python",
   "nbconvert_exporter": "python",
   "pygments_lexer": "ipython3",
   "version": "3.7.4"
  }
 },
 "nbformat": 4,
 "nbformat_minor": 2
}

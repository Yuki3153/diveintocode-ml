{
 "cells": [
  {
   "cell_type": "markdown",
   "metadata": {},
   "source": [
    "【問題1】行列積を手計算する\n",
    "AとBの行列積を手計算で解いてください。"
   ]
  },
  {
   "cell_type": "code",
   "execution_count": 1,
   "metadata": {},
   "outputs": [
    {
     "name": "stdout",
     "output_type": "stream",
     "text": [
      "[[  6  29 -20]\n",
      " [ 12  52  38]\n",
      " [-18 -51 -48]]\n"
     ]
    }
   ],
   "source": [
    "import numpy as np\n",
    "a_ndarray = np.array([[-1, 2, 3], [4, -5, 6], [7, 8, -9]])\n",
    "b_ndarray = np.array([[0, 2, 1], [0, 2, -8], [2, 9, -1]])\n",
    "\n",
    "ab_11 = (-1*0) + (2*0) + (3*2)\n",
    "ab_12 = (-1*2) + (2*2) + (3*9)\n",
    "ab_13 = (-1*1) + (2*-8) + (3*-1)\n",
    "ab_21 = (4*0) + (-5*0) + (6*2)\n",
    "ab_22 = (4*2) + (-5*2) + (6*9)\n",
    "ab_23 = (4*1) + (-5*-8) + (6*-1)\n",
    "ab_31 = (7*0) + (8*0) + (-9*2)\n",
    "ab_32 = (7*2) + (8*2) + (-9*9)\n",
    "ab_33 = (7*1) + (8*-8) + (-9*-1)\n",
    "\n",
    "ab_ndarray = np.array([[ab_11,ab_12,ab_13],[ab_21,ab_22,ab_23],[ab_31,ab_32,ab_33]])\n",
    "print(ab_ndarray)"
   ]
  },
  {
   "cell_type": "markdown",
   "metadata": {},
   "source": [
    "【問題2】NumPyの関数による計算\n",
    "この行列積はNumPyのnp.matmul()やnp.dot()、または@演算子を使うことで簡単に計算できます。\n",
    "これらを使い行列積を計算してください。"
   ]
  },
  {
   "cell_type": "code",
   "execution_count": 2,
   "metadata": {},
   "outputs": [
    {
     "name": "stdout",
     "output_type": "stream",
     "text": [
      "np.dot(): [[  6  29 -20]\n",
      " [ 12  52  38]\n",
      " [-18 -51 -48]]\n",
      "np.matmul() [[  6  29 -20]\n",
      " [ 12  52  38]\n",
      " [-18 -51 -48]]\n",
      "@ [[  6  29 -20]\n",
      " [ 12  52  38]\n",
      " [-18 -51 -48]]\n"
     ]
    }
   ],
   "source": [
    "print(\"np.dot():\", np.dot(a_ndarray, b_ndarray))\n",
    "print(\"np.matmul()\", np.matmul(a_ndarray, b_ndarray))\n",
    "print(\"@\", a_ndarray @ b_ndarray)"
   ]
  },
  {
   "cell_type": "markdown",
   "metadata": {},
   "source": [
    "【問題3】ある要素の計算を実装\n",
    "この計算をnp.matmul()やnp.dot()、または@演算子を使わずに行うコードを書いてください。"
   ]
  },
  {
   "cell_type": "code",
   "execution_count": 5,
   "metadata": {},
   "outputs": [
    {
     "name": "stdout",
     "output_type": "stream",
     "text": [
      "計算結果： [[6, 29, -20], [12, 52, 38], [-18, -51, -48]]\n"
     ]
    }
   ],
   "source": [
    "result = []\n",
    "for i, j, k in a_ndarray:\n",
    "    tmp = []\n",
    "    for ii, jj, kk in zip(*b_ndarray):\n",
    "        tmp.append(i * ii + j * jj + k * kk)\n",
    "    result.append(tmp)\n",
    "print(\"計算結果：\",result)"
   ]
  },
  {
   "cell_type": "markdown",
   "metadata": {},
   "source": [
    "【問題4】行列積を行う関数の作成\n",
    "問題3のコードを拡張し、行列積のスクラッチ実装を完成させてください。行列AとBを引数に受け取り、行列積を返す関数としてください。"
   ]
  },
  {
   "cell_type": "code",
   "execution_count": 6,
   "metadata": {},
   "outputs": [],
   "source": [
    "def matrix(A,B):\n",
    "    result = []\n",
    "    for i, j, k in A:\n",
    "        tmp = []\n",
    "        for ii, jj, kk in zip(*B):\n",
    "            tmp.append(i * ii + j * jj + k * kk)\n",
    "        result.append(tmp)\n",
    "    return result\n"
   ]
  },
  {
   "cell_type": "markdown",
   "metadata": {},
   "source": [
    "【問題5】計算が定義されない入力を判定する\n",
    "問題4で作成した関数は、実装方法によってはこのDとEの配列を入力しても動いてしまう可能性があります。この場合、不適切な計算が行われることになります。また、途中でエラーになる場合でも、なぜエラーになったかが直接的には分かりづらいメッセージが表示されます。\n",
    "if文などによってこれを防ぎ、入力される形に問題があることをprint()を使い表示するコードを書き加えてください。"
   ]
  },
  {
   "cell_type": "code",
   "execution_count": 7,
   "metadata": {},
   "outputs": [
    {
     "name": "stdout",
     "output_type": "stream",
     "text": [
      "計算するにはBの列数が足りてません\n",
      "[]\n"
     ]
    }
   ],
   "source": [
    "A = np.array([[-1, 2, 3], [4, -5, 6]])\n",
    "B = np.array([[-9, 8, 7], [6, -5, 4]])\n",
    "\n",
    "def matrix(A,B):\n",
    "    result = []\n",
    "    for i, j, k in A:\n",
    "        tmp = []\n",
    "        if len(B) < 3:\n",
    "            print(\"計算するにはBの列数が足りてません\")\n",
    "            break\n",
    "        else:\n",
    "            for ii, jj, kk in zip(*B):\n",
    "                tmp.append(i * ii + j * jj + k * kk)\n",
    "        result.append(tmp)\n",
    "    return result\n",
    "\n",
    "print(matrix(A,B))"
   ]
  },
  {
   "cell_type": "markdown",
   "metadata": {},
   "source": [
    "【問題6】転置\n",
    "片方の行列を転置することで、行列積が計算できるようになります。\n",
    "np.transpose()や.Tアトリビュートを用いて転置し、行列積を計算してください。"
   ]
  },
  {
   "cell_type": "code",
   "execution_count": 8,
   "metadata": {},
   "outputs": [
    {
     "name": "stdout",
     "output_type": "stream",
     "text": [
      "計算結果： [[ 46  -4]\n",
      " [-34  73]]\n"
     ]
    }
   ],
   "source": [
    "d_ndarray = np.array([[-1, 2, 3], [4, -5, 6]])\n",
    "e_ndarray = np.array([[-9, 8, 7], [6, -5, 4]])\n",
    "e_ndarray = e_ndarray.T\n",
    "\n",
    "print(\"計算結果：\",np.matmul(d_ndarray,e_ndarray))"
   ]
  },
  {
   "cell_type": "code",
   "execution_count": null,
   "metadata": {},
   "outputs": [],
   "source": []
  }
 ],
 "metadata": {
  "kernelspec": {
   "display_name": "Python 3",
   "language": "python",
   "name": "python3"
  },
  "language_info": {
   "codemirror_mode": {
    "name": "ipython",
    "version": 3
   },
   "file_extension": ".py",
   "mimetype": "text/x-python",
   "name": "python",
   "nbconvert_exporter": "python",
   "pygments_lexer": "ipython3",
   "version": "3.7.4"
  }
 },
 "nbformat": 4,
 "nbformat_minor": 2
}

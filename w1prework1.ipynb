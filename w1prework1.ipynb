{
 "cells": [
  {
   "cell_type": "markdown",
   "metadata": {},
   "source": [
    "【問題1】べき乗の算術演算子を使用して作成"
   ]
  },
  {
   "cell_type": "code",
   "execution_count": 1,
   "metadata": {},
   "outputs": [
    {
     "name": "stdout",
     "output_type": "stream",
     "text": [
      "厚さ： 703687441.77664メートル\n"
     ]
    }
   ],
   "source": [
    "t0 = 0.00008\n",
    "\n",
    "folded_thickness = t0 * 2**43\n",
    "print(\"厚さ： {}メートル\".format(folded_thickness))"
   ]
  },
  {
   "cell_type": "markdown",
   "metadata": {},
   "source": [
    "【問題2】単位の変換"
   ]
  },
  {
   "cell_type": "code",
   "execution_count": 2,
   "metadata": {},
   "outputs": [
    {
     "name": "stdout",
     "output_type": "stream",
     "text": [
      "厚さ： 70.36874万キロメートル\n"
     ]
    }
   ],
   "source": [
    "# 地球から月までの距離：38万4400キロメートル\n",
    "t0 = 0.00008\n",
    "\n",
    "folded_thickness = t0 * 2**43\n",
    "print(\"厚さ： {:.5f}万キロメートル\".format(folded_thickness/10000000))"
   ]
  },
  {
   "cell_type": "markdown",
   "metadata": {},
   "source": [
    "問題3】for文を使用して作成"
   ]
  },
  {
   "cell_type": "code",
   "execution_count": 16,
   "metadata": {},
   "outputs": [
    {
     "name": "stdout",
     "output_type": "stream",
     "text": [
      "厚さ： 70.36874万キロメートル\n"
     ]
    }
   ],
   "source": [
    "t0 = 0.00008\n",
    "folded_thickness = 2\n",
    "\n",
    "for i in range(42):\n",
    "    folded_thickness = folded_thickness * 2\n",
    "\n",
    "print(\"厚さ： {:.5f}万キロメートル\".format(t0 * folded_thickness/10000000))"
   ]
  },
  {
   "cell_type": "markdown",
   "metadata": {},
   "source": [
    "【問題4】計算時間の比較"
   ]
  },
  {
   "cell_type": "code",
   "execution_count": 17,
   "metadata": {},
   "outputs": [
    {
     "name": "stdout",
     "output_type": "stream",
     "text": [
      "time : 1.996755599975586[ms]\n"
     ]
    }
   ],
   "source": [
    "# 2べき乗で43回繰り返し\n",
    "import time\n",
    "\n",
    "if __name__ == '__main__':\n",
    "    start = time.time()\n",
    "    a = 2**43\n",
    "    elapsed_time = time.time() - start\n",
    "    print(\"time : {}[ms]\".format(elapsed_time*1000))"
   ]
  },
  {
   "cell_type": "code",
   "execution_count": 19,
   "metadata": {},
   "outputs": [
    {
     "name": "stdout",
     "output_type": "stream",
     "text": [
      "time : 0.0[ms]\n"
     ]
    }
   ],
   "source": [
    "# for文で43回繰り返し\n",
    "import time\n",
    "\n",
    "if __name__ == '__main__':\n",
    "    start = time.time()\n",
    "    a = 1\n",
    "    for i in range(43):\n",
    "        a = a * 2\n",
    "    elapsed_time = time.time() - start\n",
    "    print(\"time : {}[ms]\".format(elapsed_time*1000))"
   ]
  },
  {
   "cell_type": "code",
   "execution_count": 6,
   "metadata": {},
   "outputs": [
    {
     "name": "stdout",
     "output_type": "stream",
     "text": [
      "time : 0.004987478256225586[s]\n"
     ]
    }
   ],
   "source": [
    "# 2べき乗で1000000回繰り返し\n",
    "import time\n",
    "\n",
    "if __name__ == '__main__':\n",
    "    start = time.time()\n",
    "    a = 2**1000000\n",
    "    elapsed_time = time.time() - start\n",
    "    print(\"time : {}[s]\".format(elapsed_time))"
   ]
  },
  {
   "cell_type": "code",
   "execution_count": 7,
   "metadata": {},
   "outputs": [
    {
     "name": "stdout",
     "output_type": "stream",
     "text": [
      "time : 21.19465970993042[s]\n"
     ]
    }
   ],
   "source": [
    "# for文で1000000回繰り返し\n",
    "import time\n",
    "\n",
    "if __name__ == '__main__':\n",
    "    start = time.time()\n",
    "    a = 1\n",
    "    for i in range(1000000):\n",
    "        a = a * 2\n",
    "    elapsed_time = time.time() - start\n",
    "    print(\"time : {}[s]\".format(elapsed_time))"
   ]
  },
  {
   "cell_type": "markdown",
   "metadata": {},
   "source": [
    "【問題5】リストへの保存"
   ]
  },
  {
   "cell_type": "code",
   "execution_count": 9,
   "metadata": {},
   "outputs": [
    {
     "name": "stdout",
     "output_type": "stream",
     "text": [
      "厚さ： 140.73749万キロメートル\n",
      "[8e-05, 0.00016, 0.00032, 0.00064, 0.00128, 0.00256, 0.00512, 0.01024, 0.02048, 0.04096, 0.08192, 0.16384, 0.32768, 0.65536, 1.31072, 2.62144, 5.24288, 10.48576, 20.97152, 41.94304, 83.88608, 167.77216, 335.54432, 671.08864, 1342.17728, 2684.35456, 5368.70912, 10737.41824, 21474.83648, 42949.67296, 85899.34592, 171798.69184, 343597.38368, 687194.76736, 1374389.53472, 2748779.06944, 5497558.13888, 10995116.27776, 21990232.55552, 43980465.11104, 87960930.22208, 175921860.44416, 351843720.88832, 703687441.77664]\n",
      "44\n"
     ]
    }
   ],
   "source": [
    "lst = []\n",
    "folded_thickness = 0.00008\n",
    "\n",
    "for i in range(44):\n",
    "    lst.append(folded_thickness)\n",
    "    folded_thickness = folded_thickness * 2\n",
    "print(\"厚さ： {:.5f}万キロメートル\".format(folded_thickness/10000000))\n",
    "print(lst)\n",
    "print(len(lst))"
   ]
  },
  {
   "cell_type": "markdown",
   "metadata": {},
   "source": [
    "【問題6】折れ線グラフの表示"
   ]
  },
  {
   "cell_type": "code",
   "execution_count": 10,
   "metadata": {},
   "outputs": [
    {
     "data": {
      "image/png": "[encoded data removed]",
      "text/plain": [
       "<Figure size 432x288 with 1 Axes>"
      ]
     },
     "metadata": {
      "needs_background": "light"
     },
     "output_type": "display_data"
    }
   ],
   "source": [
    "lst = []\n",
    "folded_thickness = 0.00008\n",
    "\n",
    "for i in range(44):\n",
    "    lst.append(folded_thickness)\n",
    "    folded_thickness = folded_thickness * 2\n",
    "\n",
    "import matplotlib.pyplot as plt\n",
    "%matplotlib inline\n",
    "plt.title(\"thickness of folded paper\")\n",
    "plt.xlabel(\"number of folds\")\n",
    "plt.ylabel(\"thickness[m]\")\n",
    "plt.plot(lst) \n",
    "plt.show()"
   ]
  },
  {
   "cell_type": "markdown",
   "metadata": {},
   "source": [
    "【問題7】グラフのカスタマイズ"
   ]
  },
  {
   "cell_type": "code",
   "execution_count": 11,
   "metadata": {},
   "outputs": [
    {
     "data": {
      "image/png": "[encoded data removed]",
      "text/plain": [
       "<Figure size 432x288 with 1 Axes>"
      ]
     },
     "metadata": {
      "needs_background": "light"
     },
     "output_type": "display_data"
    }
   ],
   "source": [
    "# 赤いグラフを表示\n",
    "lst = []\n",
    "folded_thickness = 0.00008\n",
    "\n",
    "for i in range(44):\n",
    "    lst.append(folded_thickness)\n",
    "    folded_thickness = folded_thickness * 2\n",
    "\n",
    "import matplotlib.pyplot as plt\n",
    "%matplotlib inline\n",
    "plt.title(\"thickness of folded paper\")\n",
    "plt.xlabel(\"number of folds\")\n",
    "plt.ylabel(\"thickness[m]\")\n",
    "plt.plot(lst, color='red')\n",
    "plt.show()"
   ]
  },
  {
   "cell_type": "code",
   "execution_count": 12,
   "metadata": {},
   "outputs": [
    {
     "data": {
      "image/png": "[encoded data removed]",
      "text/plain": [
       "<Figure size 432x288 with 1 Axes>"
      ]
     },
     "metadata": {
      "needs_background": "light"
     },
     "output_type": "display_data"
    }
   ],
   "source": [
    "# 赤いグラフ, 太線を表示\n",
    "lst = []\n",
    "folded_thickness = 0.00008\n",
    "\n",
    "for i in range(44):\n",
    "    lst.append(folded_thickness)\n",
    "    folded_thickness = folded_thickness * 2\n",
    "\n",
    "import matplotlib.pyplot as plt\n",
    "%matplotlib inline\n",
    "plt.title(\"thickness of folded paper\")\n",
    "plt.xlabel(\"number of folds\")\n",
    "plt.ylabel(\"thickness[m]\")\n",
    "plt.plot(lst, linewidth=4, color='red') \n",
    "plt.show()"
   ]
  },
  {
   "cell_type": "code",
   "execution_count": 13,
   "metadata": {},
   "outputs": [
    {
     "data": {
      "image/png": "[encoded data removed]",
      "text/plain": [
       "<Figure size 432x288 with 1 Axes>"
      ]
     },
     "metadata": {
      "needs_background": "light"
     },
     "output_type": "display_data"
    }
   ],
   "source": [
    "# 赤いグラフ, 太点線を表示\n",
    "lst = []\n",
    "folded_thickness = 0.00008\n",
    "\n",
    "for i in range(44):\n",
    "    lst.append(folded_thickness)\n",
    "    folded_thickness = folded_thickness * 2\n",
    "\n",
    "import matplotlib.pyplot as plt\n",
    "%matplotlib inline\n",
    "plt.title(\"thickness of folded paper\")\n",
    "plt.xlabel(\"number of folds\")\n",
    "plt.ylabel(\"thickness[m]\")\n",
    "plt.plot(lst, linewidth=4, color='red',linestyle=\"dotted\")\n",
    "plt.show()"
   ]
  },
  {
   "cell_type": "code",
   "execution_count": null,
   "metadata": {},
   "outputs": [],
   "source": []
  }
 ],
 "metadata": {
  "kernelspec": {
   "display_name": "Python 3",
   "language": "python",
   "name": "python3"
  },
  "language_info": {
   "codemirror_mode": {
    "name": "ipython",
    "version": 3
   },
   "file_extension": ".py",
   "mimetype": "text/x-python",
   "name": "python",
   "nbconvert_exporter": "python",
   "pygments_lexer": "ipython3",
   "version": "3.7.4"
  }
 },
 "nbformat": 4,
 "nbformat_minor": 2
}
